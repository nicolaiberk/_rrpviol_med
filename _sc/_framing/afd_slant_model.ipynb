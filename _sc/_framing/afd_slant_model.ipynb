{
 "cells": [
  {
   "cell_type": "code",
   "execution_count": 1,
   "id": "62bf2a66-5bbf-49a6-99d4-6d026a2eabc7",
   "metadata": {},
   "outputs": [],
   "source": [
    "# train slant model on press releases using media bi- and trigrams\n",
    "\n",
    "## import\n",
    "import os\n",
    "import numpy as np\n",
    "import pandas as pd\n",
    "import pickle\n",
    "import nltk\n",
    "from nltk.tokenize import RegexpTokenizer\n",
    "from sklearn.linear_model import LogisticRegression\n",
    "import re\n",
    "import joblib\n",
    "from imblearn.over_sampling import SMOTE\n",
    "\n",
    "\n",
    "## set wd\n",
    "os.chdir(\"/home/nico/Projects/_rrpviol_med/\")"
   ]
  },
  {
   "cell_type": "code",
   "execution_count": 2,
   "id": "9d5b2018-623a-468e-89a4-43118ed61285",
   "metadata": {
    "tags": []
   },
   "outputs": [],
   "source": [
    "## load press releases\n",
    "pprs = pd.read_csv('_dt/releases/germanyPPRs.csv')\n",
    "pprs.text = [str(t) for t in pprs.text]"
   ]
  },
  {
   "cell_type": "code",
   "execution_count": 3,
   "id": "3cb2274c-ed21-4dbf-af61-84c37901f7f4",
   "metadata": {},
   "outputs": [],
   "source": [
    "## restrict to relevant time frame\n",
    "pprs = pprs[pprs.year >= 2013]"
   ]
  },
  {
   "cell_type": "code",
   "execution_count": 4,
   "id": "4975c6f1-560e-4013-b0b1-613d9aa08649",
   "metadata": {},
   "outputs": [
    {
     "data": {
      "text/html": [
       "<div>\n",
       "<style scoped>\n",
       "    .dataframe tbody tr th:only-of-type {\n",
       "        vertical-align: middle;\n",
       "    }\n",
       "\n",
       "    .dataframe tbody tr th {\n",
       "        vertical-align: top;\n",
       "    }\n",
       "\n",
       "    .dataframe thead th {\n",
       "        text-align: right;\n",
       "    }\n",
       "</style>\n",
       "<table border=\"1\" class=\"dataframe\">\n",
       "  <thead>\n",
       "    <tr style=\"text-align: right;\">\n",
       "      <th>party</th>\n",
       "      <th>90gruene_fraktion</th>\n",
       "      <th>afd_bundesverband</th>\n",
       "      <th>afd_fraktion</th>\n",
       "      <th>fdp_bundesverband</th>\n",
       "      <th>fdp_fraktion</th>\n",
       "      <th>linke_fraktion</th>\n",
       "      <th>spd_fraktion</th>\n",
       "      <th>union_fraktion</th>\n",
       "    </tr>\n",
       "    <tr>\n",
       "      <th>year</th>\n",
       "      <th></th>\n",
       "      <th></th>\n",
       "      <th></th>\n",
       "      <th></th>\n",
       "      <th></th>\n",
       "      <th></th>\n",
       "      <th></th>\n",
       "      <th></th>\n",
       "    </tr>\n",
       "  </thead>\n",
       "  <tbody>\n",
       "    <tr>\n",
       "      <th>2013</th>\n",
       "      <td>766</td>\n",
       "      <td>111</td>\n",
       "      <td>0</td>\n",
       "      <td>84</td>\n",
       "      <td>700</td>\n",
       "      <td>1113</td>\n",
       "      <td>1008</td>\n",
       "      <td>854</td>\n",
       "    </tr>\n",
       "    <tr>\n",
       "      <th>2014</th>\n",
       "      <td>942</td>\n",
       "      <td>283</td>\n",
       "      <td>0</td>\n",
       "      <td>580</td>\n",
       "      <td>0</td>\n",
       "      <td>1118</td>\n",
       "      <td>794</td>\n",
       "      <td>848</td>\n",
       "    </tr>\n",
       "    <tr>\n",
       "      <th>2015</th>\n",
       "      <td>787</td>\n",
       "      <td>155</td>\n",
       "      <td>0</td>\n",
       "      <td>598</td>\n",
       "      <td>0</td>\n",
       "      <td>1078</td>\n",
       "      <td>753</td>\n",
       "      <td>656</td>\n",
       "    </tr>\n",
       "    <tr>\n",
       "      <th>2016</th>\n",
       "      <td>799</td>\n",
       "      <td>354</td>\n",
       "      <td>0</td>\n",
       "      <td>598</td>\n",
       "      <td>0</td>\n",
       "      <td>925</td>\n",
       "      <td>721</td>\n",
       "      <td>626</td>\n",
       "    </tr>\n",
       "    <tr>\n",
       "      <th>2017</th>\n",
       "      <td>401</td>\n",
       "      <td>464</td>\n",
       "      <td>119</td>\n",
       "      <td>618</td>\n",
       "      <td>46</td>\n",
       "      <td>771</td>\n",
       "      <td>546</td>\n",
       "      <td>437</td>\n",
       "    </tr>\n",
       "    <tr>\n",
       "      <th>2018</th>\n",
       "      <td>584</td>\n",
       "      <td>242</td>\n",
       "      <td>1375</td>\n",
       "      <td>201</td>\n",
       "      <td>537</td>\n",
       "      <td>838</td>\n",
       "      <td>439</td>\n",
       "      <td>457</td>\n",
       "    </tr>\n",
       "    <tr>\n",
       "      <th>2019</th>\n",
       "      <td>638</td>\n",
       "      <td>161</td>\n",
       "      <td>772</td>\n",
       "      <td>106</td>\n",
       "      <td>246</td>\n",
       "      <td>391</td>\n",
       "      <td>222</td>\n",
       "      <td>249</td>\n",
       "    </tr>\n",
       "  </tbody>\n",
       "</table>\n",
       "</div>"
      ],
      "text/plain": [
       "party  90gruene_fraktion  afd_bundesverband  afd_fraktion  fdp_bundesverband  \\\n",
       "year                                                                           \n",
       "2013                 766                111             0                 84   \n",
       "2014                 942                283             0                580   \n",
       "2015                 787                155             0                598   \n",
       "2016                 799                354             0                598   \n",
       "2017                 401                464           119                618   \n",
       "2018                 584                242          1375                201   \n",
       "2019                 638                161           772                106   \n",
       "\n",
       "party  fdp_fraktion  linke_fraktion  spd_fraktion  union_fraktion  \n",
       "year                                                               \n",
       "2013            700            1113          1008             854  \n",
       "2014              0            1118           794             848  \n",
       "2015              0            1078           753             656  \n",
       "2016              0             925           721             626  \n",
       "2017             46             771           546             437  \n",
       "2018            537             838           439             457  \n",
       "2019            246             391           222             249  "
      ]
     },
     "execution_count": 4,
     "metadata": {},
     "output_type": "execute_result"
    }
   ],
   "source": [
    "## check if similar distribution of press releases across time for each party\n",
    "pd.crosstab(pprs.year, pprs.party)"
   ]
  },
  {
   "cell_type": "code",
   "execution_count": 5,
   "id": "91b4aa36-848e-402f-b805-e34138e394c8",
   "metadata": {},
   "outputs": [],
   "source": [
    "## load vectorizer\n",
    "vec = pickle.load(open('_dt/bitrigram_new_vectorizer.pkl', mode='rb'))"
   ]
  },
  {
   "cell_type": "code",
   "execution_count": 6,
   "id": "c50a7c05-7e6d-4804-9401-047dc381a254",
   "metadata": {},
   "outputs": [],
   "source": [
    "# drop numbers\n",
    "numberEraser = lambda x : re.sub(r'\\d+', '', x)\n",
    "pprs['text_clean'] = pprs.text.apply(numberEraser)"
   ]
  },
  {
   "cell_type": "code",
   "execution_count": 7,
   "id": "a519596f-8a72-48d1-b803-fbc155a7c6a6",
   "metadata": {},
   "outputs": [],
   "source": [
    "## drop politician names\n",
    "politician_names = pd.read_csv('_dt/releases/politician_names.csv', delimiter=';').name\n",
    "additional_names = pd.Series(['Alternative für Deutschland', 'AfD', 'Jörg Meuthen', 'Björn Höcke', 'Bernd Lucke', 'Jürgen Trittin', 'Wolfgang Kubicki', 'wolfgang kubicki', 'Christian Lindner', 'christian lindner', 'FDP', 'Bundestagsfraktion', 'bundestagsfraktion', 'Fraktion', 'fraktion', 'CSU', 'SPD', 'Bundestag', 'Die Linke', 'Die Grünen', 'Bündnis 90'])\n"
   ]
  },
  {
   "cell_type": "code",
   "execution_count": 8,
   "id": "82372719-5425-4f4d-b15d-8ed0d153e21f",
   "metadata": {},
   "outputs": [],
   "source": [
    "politician_names = politician_names.append(additional_names)\n",
    "\n",
    "for name in politician_names:\n",
    "    nameEraser = lambda x : re.sub(name, '', x)\n",
    "    pprs['text_clean'] = pprs.text_clean.apply(nameEraser)"
   ]
  },
  {
   "cell_type": "code",
   "execution_count": 9,
   "id": "5b2097d3-300a-48c0-83e3-ae6fe7ebc187",
   "metadata": {},
   "outputs": [],
   "source": [
    "## preprocess and vectorize\n",
    "DocTokenizer = RegexpTokenizer(r'\\w+') \n",
    "Tokenizer = lambda x : DocTokenizer.tokenize(x)\n",
    "pprs['tokens'] = [' '.join(t) for t in pprs.text_clean.apply(Tokenizer)]"
   ]
  },
  {
   "cell_type": "code",
   "execution_count": 10,
   "id": "616a429a-ae5f-4b1e-b7e1-2c5fba12580e",
   "metadata": {},
   "outputs": [],
   "source": [
    "## define outcome\n",
    "pprs['label'] = 0\n",
    "pprs.loc[[re.match('.*afd.*', p) != None for p in pprs.party], 'label'] = 1"
   ]
  },
  {
   "cell_type": "code",
   "execution_count": 11,
   "id": "1644dabf-d8fa-4f2a-922c-aa54a0e2cc79",
   "metadata": {},
   "outputs": [
    {
     "data": {
      "text/html": [
       "<div>\n",
       "<style scoped>\n",
       "    .dataframe tbody tr th:only-of-type {\n",
       "        vertical-align: middle;\n",
       "    }\n",
       "\n",
       "    .dataframe tbody tr th {\n",
       "        vertical-align: top;\n",
       "    }\n",
       "\n",
       "    .dataframe thead th {\n",
       "        text-align: right;\n",
       "    }\n",
       "</style>\n",
       "<table border=\"1\" class=\"dataframe\">\n",
       "  <thead>\n",
       "    <tr style=\"text-align: right;\">\n",
       "      <th>year</th>\n",
       "      <th>2013</th>\n",
       "      <th>2014</th>\n",
       "      <th>2015</th>\n",
       "      <th>2016</th>\n",
       "      <th>2017</th>\n",
       "      <th>2018</th>\n",
       "      <th>2019</th>\n",
       "    </tr>\n",
       "    <tr>\n",
       "      <th>label</th>\n",
       "      <th></th>\n",
       "      <th></th>\n",
       "      <th></th>\n",
       "      <th></th>\n",
       "      <th></th>\n",
       "      <th></th>\n",
       "      <th></th>\n",
       "    </tr>\n",
       "  </thead>\n",
       "  <tbody>\n",
       "    <tr>\n",
       "      <th>0</th>\n",
       "      <td>4525</td>\n",
       "      <td>4282</td>\n",
       "      <td>3872</td>\n",
       "      <td>3669</td>\n",
       "      <td>2819</td>\n",
       "      <td>3056</td>\n",
       "      <td>1852</td>\n",
       "    </tr>\n",
       "    <tr>\n",
       "      <th>1</th>\n",
       "      <td>111</td>\n",
       "      <td>283</td>\n",
       "      <td>155</td>\n",
       "      <td>354</td>\n",
       "      <td>583</td>\n",
       "      <td>1617</td>\n",
       "      <td>933</td>\n",
       "    </tr>\n",
       "  </tbody>\n",
       "</table>\n",
       "</div>"
      ],
      "text/plain": [
       "year   2013  2014  2015  2016  2017  2018  2019\n",
       "label                                          \n",
       "0      4525  4282  3872  3669  2819  3056  1852\n",
       "1       111   283   155   354   583  1617   933"
      ]
     },
     "execution_count": 11,
     "metadata": {},
     "output_type": "execute_result"
    }
   ],
   "source": [
    "pd.crosstab(pprs.label, pprs.year)"
   ]
  },
  {
   "cell_type": "code",
   "execution_count": 12,
   "id": "a55ed58c-9332-4bc3-8e5d-76fa07fe0670",
   "metadata": {
    "tags": []
   },
   "outputs": [],
   "source": [
    "# define train-test sample\n",
    "from sklearn.model_selection import train_test_split\n",
    "X_train, X_test, y_train, y_test = train_test_split(\n",
    "    vec.transform(pprs.tokens), pprs.label, test_size = 0.1, random_state = 42\n",
    ")"
   ]
  },
  {
   "cell_type": "code",
   "execution_count": 13,
   "id": "46850310-4de0-4379-9c92-4ec4502918e4",
   "metadata": {
    "tags": []
   },
   "outputs": [],
   "source": [
    "# balance data\n",
    "X_resampled, y_resampled = SMOTE().fit_resample(X_train, y_train)"
   ]
  },
  {
   "cell_type": "code",
   "execution_count": 14,
   "id": "e1a0ef12-75c7-40d4-8843-78526fdf0ade",
   "metadata": {},
   "outputs": [
    {
     "data": {
      "text/plain": [
       "LogisticRegression(max_iter=1000)"
      ]
     },
     "execution_count": 14,
     "metadata": {},
     "output_type": "execute_result"
    }
   ],
   "source": [
    "## fit model\n",
    "logreg = LogisticRegression(max_iter = 1000)\n",
    "logreg.fit(X_resampled, y_resampled)"
   ]
  },
  {
   "cell_type": "code",
   "execution_count": 15,
   "id": "6d9161ba-c000-4ae0-a5c5-c99d388170b4",
   "metadata": {},
   "outputs": [
    {
     "data": {
      "text/plain": [
       "['_dt/bitrigram_classifier_fullset.pkl']"
      ]
     },
     "execution_count": 15,
     "metadata": {},
     "output_type": "execute_result"
    }
   ],
   "source": [
    "## save model\n",
    "joblib.dump(logreg, '_dt/bitrigram_classifier_fullset.pkl')"
   ]
  },
  {
   "cell_type": "code",
   "execution_count": 16,
   "id": "3b12e7ea-3d2b-49d3-b241-ec43eb0a7bb5",
   "metadata": {},
   "outputs": [
    {
     "name": "stdout",
     "output_type": "stream",
     "text": [
      "Accuracy:  0.7663584637268848\n",
      "Precision:  0.3474114441416894\n",
      "Recall:  0.5889145496535797\n",
      "F1:  0.43701799485861187\n"
     ]
    }
   ],
   "source": [
    "# assess overall performance\n",
    "from sklearn.metrics import accuracy_score, precision_score, recall_score, f1_score\n",
    "\n",
    "prediction = logreg.predict(X_test)\n",
    "print('Accuracy: ', accuracy_score(y_test, prediction)) # ok\n",
    "print('Precision: ', precision_score(y_test, prediction)) # v bad\n",
    "print('Recall: ', recall_score(y_test, prediction)) # meagre\n",
    "print('F1: ', f1_score(y_test, prediction)) # bad"
   ]
  },
  {
   "cell_type": "code",
   "execution_count": 17,
   "id": "6c754009-763c-4113-9af4-c2356490d061",
   "metadata": {},
   "outputs": [
    {
     "data": {
      "text/html": [
       "<div>\n",
       "<style scoped>\n",
       "    .dataframe tbody tr th:only-of-type {\n",
       "        vertical-align: middle;\n",
       "    }\n",
       "\n",
       "    .dataframe tbody tr th {\n",
       "        vertical-align: top;\n",
       "    }\n",
       "\n",
       "    .dataframe thead th {\n",
       "        text-align: right;\n",
       "    }\n",
       "</style>\n",
       "<table border=\"1\" class=\"dataframe\">\n",
       "  <thead>\n",
       "    <tr style=\"text-align: right;\">\n",
       "      <th>label</th>\n",
       "      <th>0</th>\n",
       "      <th>1</th>\n",
       "    </tr>\n",
       "    <tr>\n",
       "      <th>row_0</th>\n",
       "      <th></th>\n",
       "      <th></th>\n",
       "    </tr>\n",
       "  </thead>\n",
       "  <tbody>\n",
       "    <tr>\n",
       "      <th>0</th>\n",
       "      <td>1900</td>\n",
       "      <td>178</td>\n",
       "    </tr>\n",
       "    <tr>\n",
       "      <th>1</th>\n",
       "      <td>479</td>\n",
       "      <td>255</td>\n",
       "    </tr>\n",
       "  </tbody>\n",
       "</table>\n",
       "</div>"
      ],
      "text/plain": [
       "label     0    1\n",
       "row_0           \n",
       "0      1900  178\n",
       "1       479  255"
      ]
     },
     "execution_count": 17,
     "metadata": {},
     "output_type": "execute_result"
    }
   ],
   "source": [
    "pd.crosstab(prediction, y_test)\n",
    "# question is: do we care?"
   ]
  },
  {
   "cell_type": "code",
   "execution_count": 18,
   "id": "a14057bb-1db9-4963-8d43-8fa9f86d5bff",
   "metadata": {},
   "outputs": [],
   "source": [
    "# check performance across time \n",
    "# are later PPRs classified more accurately due to higher share of outcome?\n",
    "\n",
    "years = [[]]*7\n",
    "acc = [[]]*7\n",
    "prec = [[]]*7\n",
    "rec = [[]]*7\n",
    "f1 = [[]]*7\n",
    "\n",
    "\n",
    "for year in range(2013, 2020):\n",
    "    temp = pprs.loc[pprs.year == year]\n",
    "    prediction = logreg.predict(vec.transform(temp.tokens))\n",
    "    years[year-2013] = year\n",
    "    acc[year-2013] = accuracy_score(temp.label, prediction) # meagre\n",
    "    prec[year-2013] = precision_score(temp.label, prediction) # really bad\n",
    "    rec[year-2013] = recall_score(temp.label, prediction) # bad\n",
    "    f1[year-2013] = f1_score(temp.label, prediction) # v bad"
   ]
  },
  {
   "cell_type": "code",
   "execution_count": 19,
   "id": "a4bf08f7-26b3-46d1-ad76-29414f5cde37",
   "metadata": {
    "tags": []
   },
   "outputs": [
    {
     "data": {
      "text/plain": [
       "[<matplotlib.lines.Line2D at 0x7f4767414550>]"
      ]
     },
     "execution_count": 19,
     "metadata": {},
     "output_type": "execute_result"
    },
    {
     "data": {
      "image/png": "[encoded data removed]",
      "text/plain": [
       "<Figure size 432x288 with 1 Axes>"
      ]
     },
     "metadata": {
      "needs_background": "light"
     },
     "output_type": "display_data"
    }
   ],
   "source": [
    "import matplotlib.pyplot as plt\n",
    "plt.plot(years, acc, 'r--') # only bad in 2019\n",
    "plt.plot(years, prec, 'bs') # really bad early on\n",
    "plt.plot(years, rec, 'b^') # rel stable\n",
    "plt.plot(years, f1, 'g-') # really bad early on\n"
   ]
  },
  {
   "cell_type": "code",
   "execution_count": 20,
   "id": "3321dfe4-5b37-4156-81ea-7bd506d30b8d",
   "metadata": {},
   "outputs": [
    {
     "data": {
      "text/html": [
       "<div>\n",
       "<style scoped>\n",
       "    .dataframe tbody tr th:only-of-type {\n",
       "        vertical-align: middle;\n",
       "    }\n",
       "\n",
       "    .dataframe tbody tr th {\n",
       "        vertical-align: top;\n",
       "    }\n",
       "\n",
       "    .dataframe thead th {\n",
       "        text-align: right;\n",
       "    }\n",
       "</style>\n",
       "<table border=\"1\" class=\"dataframe\">\n",
       "  <thead>\n",
       "    <tr style=\"text-align: right;\">\n",
       "      <th>label</th>\n",
       "      <th>0</th>\n",
       "      <th>1</th>\n",
       "    </tr>\n",
       "    <tr>\n",
       "      <th>year</th>\n",
       "      <th></th>\n",
       "      <th></th>\n",
       "    </tr>\n",
       "  </thead>\n",
       "  <tbody>\n",
       "    <tr>\n",
       "      <th>2013</th>\n",
       "      <td>333</td>\n",
       "      <td>111</td>\n",
       "    </tr>\n",
       "    <tr>\n",
       "      <th>2014</th>\n",
       "      <td>849</td>\n",
       "      <td>283</td>\n",
       "    </tr>\n",
       "    <tr>\n",
       "      <th>2015</th>\n",
       "      <td>465</td>\n",
       "      <td>155</td>\n",
       "    </tr>\n",
       "    <tr>\n",
       "      <th>2016</th>\n",
       "      <td>1062</td>\n",
       "      <td>354</td>\n",
       "    </tr>\n",
       "    <tr>\n",
       "      <th>2017</th>\n",
       "      <td>1749</td>\n",
       "      <td>583</td>\n",
       "    </tr>\n",
       "    <tr>\n",
       "      <th>2018</th>\n",
       "      <td>3056</td>\n",
       "      <td>1617</td>\n",
       "    </tr>\n",
       "    <tr>\n",
       "      <th>2019</th>\n",
       "      <td>1852</td>\n",
       "      <td>933</td>\n",
       "    </tr>\n",
       "  </tbody>\n",
       "</table>\n",
       "</div>"
      ],
      "text/plain": [
       "label     0     1\n",
       "year             \n",
       "2013    333   111\n",
       "2014    849   283\n",
       "2015    465   155\n",
       "2016   1062   354\n",
       "2017   1749   583\n",
       "2018   3056  1617\n",
       "2019   1852   933"
      ]
     },
     "execution_count": 20,
     "metadata": {},
     "output_type": "execute_result"
    }
   ],
   "source": [
    "# Alternative 1: re-sample across time\n",
    "\n",
    "# draw random sample for test set, stratify across time\n",
    "\n",
    "if 'X_train' in locals():\n",
    "    del X_train\n",
    "\n",
    "for year in range(2013, 2020):\n",
    "    temp = pprs.loc[(pprs.year == year) & (pprs.label == 0)] # take all press releases from that year\n",
    "    temp_afd = pprs.loc[(pprs.year == year) & (pprs.label == 1)] # all afd press releases from that year\n",
    "    temp = temp.loc[np.random.choice(temp.index, min(len(temp_afd.index)*3, len(temp.index)), replace=False)] # choose 3*the amount of afd data\n",
    "    temp = temp.append(temp_afd) # append afd cases\n",
    "    X_train_temp, X_test_temp, y_train_temp, y_test_temp = train_test_split(\n",
    "        temp.tokens, temp.label, test_size = 0.1, random_state = 42\n",
    "    )\n",
    "    if 'X_train' in locals():\n",
    "        X_train = X_train.append(X_train_temp)\n",
    "        X_test = X_test.append(X_test_temp)\n",
    "        y_train = y_train.append(y_train_temp)\n",
    "        y_test = y_test.append(y_test_temp)\n",
    "        yearvec = yearvec.append(temp.year)\n",
    "        labels_full = labels_full.append(temp.label)\n",
    "    else:\n",
    "        X_train = X_train_temp\n",
    "        X_test  = X_test_temp\n",
    "        y_train = y_train_temp\n",
    "        y_test  = y_test_temp\n",
    "        yearvec = temp.year\n",
    "        labels_full = temp.label\n",
    "\n",
    "X_train = vec.transform(X_train)\n",
    "X_test  = vec.transform(X_test)\n",
    "\n",
    "pd.crosstab(yearvec, labels_full)    "
   ]
  },
  {
   "cell_type": "code",
   "execution_count": 21,
   "id": "063b7ee1-123e-4697-afb0-e54ea4bce2c4",
   "metadata": {
    "tags": []
   },
   "outputs": [],
   "source": [
    "# balance data\n",
    "X_resampled, y_resampled = SMOTE().fit_resample(X_train, y_train)"
   ]
  },
  {
   "cell_type": "code",
   "execution_count": 22,
   "id": "480ace95-7186-4a9d-9cf2-701b65c22c96",
   "metadata": {},
   "outputs": [
    {
     "data": {
      "text/plain": [
       "LogisticRegression(max_iter=1000)"
      ]
     },
     "execution_count": 22,
     "metadata": {},
     "output_type": "execute_result"
    }
   ],
   "source": [
    "## fit model\n",
    "logreg = LogisticRegression(max_iter = 1000)\n",
    "logreg.fit(X_resampled, y_resampled)"
   ]
  },
  {
   "cell_type": "code",
   "execution_count": 23,
   "id": "19cce492-b6da-4b77-81d8-de5dabf5b7da",
   "metadata": {},
   "outputs": [
    {
     "data": {
      "text/plain": [
       "['_dt/bitrigram_classifier_resampled.pkl']"
      ]
     },
     "execution_count": 23,
     "metadata": {},
     "output_type": "execute_result"
    }
   ],
   "source": [
    "## save model\n",
    "joblib.dump(logreg, '_dt/bitrigram_classifier_resampled.pkl')"
   ]
  },
  {
   "cell_type": "code",
   "execution_count": 24,
   "id": "92718f3e-a34a-4538-b361-674801a8ecbf",
   "metadata": {},
   "outputs": [
    {
     "name": "stdout",
     "output_type": "stream",
     "text": [
      "Accuracy:  0.7321428571428571\n",
      "Precision:  0.5362318840579711\n",
      "Recall:  0.74\n",
      "F1:  0.6218487394957984\n"
     ]
    }
   ],
   "source": [
    "# assess overall performance\n",
    "from sklearn.metrics import accuracy_score, precision_score, recall_score, f1_score\n",
    "\n",
    "prediction = logreg.predict(X_test)\n",
    "print('Accuracy: ', accuracy_score(y_test, prediction)) # good\n",
    "print('Precision: ', precision_score(y_test, prediction)) # bad\n",
    "print('Recall: ', recall_score(y_test, prediction)) # good\n",
    "print('F1: ', f1_score(y_test, prediction)) # meagre"
   ]
  },
  {
   "cell_type": "code",
   "execution_count": 25,
   "id": "07c13cdc-b1cb-4d49-ae90-2bb5165d9062",
   "metadata": {},
   "outputs": [
    {
     "data": {
      "text/html": [
       "<div>\n",
       "<style scoped>\n",
       "    .dataframe tbody tr th:only-of-type {\n",
       "        vertical-align: middle;\n",
       "    }\n",
       "\n",
       "    .dataframe tbody tr th {\n",
       "        vertical-align: top;\n",
       "    }\n",
       "\n",
       "    .dataframe thead th {\n",
       "        text-align: right;\n",
       "    }\n",
       "</style>\n",
       "<table border=\"1\" class=\"dataframe\">\n",
       "  <thead>\n",
       "    <tr style=\"text-align: right;\">\n",
       "      <th>label</th>\n",
       "      <th>0</th>\n",
       "      <th>1</th>\n",
       "    </tr>\n",
       "    <tr>\n",
       "      <th>row_0</th>\n",
       "      <th></th>\n",
       "      <th></th>\n",
       "    </tr>\n",
       "  </thead>\n",
       "  <tbody>\n",
       "    <tr>\n",
       "      <th>0</th>\n",
       "      <td>688</td>\n",
       "      <td>104</td>\n",
       "    </tr>\n",
       "    <tr>\n",
       "      <th>1</th>\n",
       "      <td>256</td>\n",
       "      <td>296</td>\n",
       "    </tr>\n",
       "  </tbody>\n",
       "</table>\n",
       "</div>"
      ],
      "text/plain": [
       "label    0    1\n",
       "row_0          \n",
       "0      688  104\n",
       "1      256  296"
      ]
     },
     "execution_count": 25,
     "metadata": {},
     "output_type": "execute_result"
    }
   ],
   "source": [
    "pd.crosstab(prediction, y_test)\n",
    "# question is: do we care?"
   ]
  },
  {
   "cell_type": "code",
   "execution_count": 26,
   "id": "a25c64eb-ebbf-4a82-8736-5c1a2bec99f2",
   "metadata": {},
   "outputs": [],
   "source": [
    "# check performance across time \n",
    "# are later PPRs classified more accurately due to higher share of outcome?\n",
    "\n",
    "years = [[]]*7\n",
    "acc = [[]]*7\n",
    "prec = [[]]*7\n",
    "rec = [[]]*7\n",
    "f1 = [[]]*7\n",
    "\n",
    "\n",
    "for year in range(2013, 2020):\n",
    "    temp = pprs.loc[pprs.year == year]\n",
    "    prediction = logreg.predict(vec.transform(temp.tokens))\n",
    "    years[year-2013] = year\n",
    "    acc[year-2013] = accuracy_score(temp.label, prediction) # meagre\n",
    "    prec[year-2013] = precision_score(temp.label, prediction) # really bad\n",
    "    rec[year-2013] = recall_score(temp.label, prediction) # bad\n",
    "    f1[year-2013] = f1_score(temp.label, prediction) # v bad"
   ]
  },
  {
   "cell_type": "code",
   "execution_count": 27,
   "id": "11763461-378d-4ed0-9b42-16293b55d4ef",
   "metadata": {
    "tags": []
   },
   "outputs": [
    {
     "data": {
      "text/plain": [
       "[<matplotlib.lines.Line2D at 0x7f47653125e0>]"
      ]
     },
     "execution_count": 27,
     "metadata": {},
     "output_type": "execute_result"
    },
    {
     "data": {
      "image/png": "[encoded data removed]",
      "text/plain": [
       "<Figure size 432x288 with 1 Axes>"
      ]
     },
     "metadata": {
      "needs_background": "light"
     },
     "output_type": "display_data"
    }
   ],
   "source": [
    "import matplotlib.pyplot as plt\n",
    "plt.plot(years, acc, 'r--') # only bad in 2019\n",
    "plt.plot(years, prec, 'bs') # really bad early on\n",
    "plt.plot(years, rec, 'b^') # rel stable\n",
    "plt.plot(years, f1, 'g-') # really bad early on"
   ]
  },
  {
   "cell_type": "code",
   "execution_count": 51,
   "id": "b0d29cd8-5ec3-4382-a0e3-c8e64da41ed7",
   "metadata": {},
   "outputs": [
    {
     "data": {
      "text/html": [
       "<div>\n",
       "<style scoped>\n",
       "    .dataframe tbody tr th:only-of-type {\n",
       "        vertical-align: middle;\n",
       "    }\n",
       "\n",
       "    .dataframe tbody tr th {\n",
       "        vertical-align: top;\n",
       "    }\n",
       "\n",
       "    .dataframe thead th {\n",
       "        text-align: right;\n",
       "    }\n",
       "</style>\n",
       "<table border=\"1\" class=\"dataframe\">\n",
       "  <thead>\n",
       "    <tr style=\"text-align: right;\">\n",
       "      <th>label</th>\n",
       "      <th>0</th>\n",
       "      <th>1</th>\n",
       "    </tr>\n",
       "    <tr>\n",
       "      <th>year</th>\n",
       "      <th></th>\n",
       "      <th></th>\n",
       "    </tr>\n",
       "  </thead>\n",
       "  <tbody>\n",
       "    <tr>\n",
       "      <th>2013</th>\n",
       "      <td>300</td>\n",
       "      <td>100</td>\n",
       "    </tr>\n",
       "    <tr>\n",
       "      <th>2014</th>\n",
       "      <td>300</td>\n",
       "      <td>100</td>\n",
       "    </tr>\n",
       "    <tr>\n",
       "      <th>2015</th>\n",
       "      <td>300</td>\n",
       "      <td>100</td>\n",
       "    </tr>\n",
       "    <tr>\n",
       "      <th>2016</th>\n",
       "      <td>300</td>\n",
       "      <td>100</td>\n",
       "    </tr>\n",
       "    <tr>\n",
       "      <th>2017</th>\n",
       "      <td>300</td>\n",
       "      <td>100</td>\n",
       "    </tr>\n",
       "    <tr>\n",
       "      <th>2018</th>\n",
       "      <td>300</td>\n",
       "      <td>100</td>\n",
       "    </tr>\n",
       "    <tr>\n",
       "      <th>2019</th>\n",
       "      <td>300</td>\n",
       "      <td>100</td>\n",
       "    </tr>\n",
       "  </tbody>\n",
       "</table>\n",
       "</div>"
      ],
      "text/plain": [
       "label    0    1\n",
       "year           \n",
       "2013   300  100\n",
       "2014   300  100\n",
       "2015   300  100\n",
       "2016   300  100\n",
       "2017   300  100\n",
       "2018   300  100\n",
       "2019   300  100"
      ]
     },
     "execution_count": 51,
     "metadata": {},
     "output_type": "execute_result"
    }
   ],
   "source": [
    "# Alternative 2: stratify across time\n",
    "\n",
    "# draw random sample for test set, stratify across time\n",
    "\n",
    "if 'X_train' in locals():\n",
    "    del X_train\n",
    "\n",
    "for year in range(2013, 2020):\n",
    "    temp = pprs.loc[(pprs.year == year) & (pprs.label == 0)] # take all press releases from that year\n",
    "    temp_afd = pprs.loc[(pprs.year == year) & (pprs.label == 1)] # all afd press releases from that year\n",
    "    temp = temp.loc[np.random.choice(temp.index, 300, replace=False)] # choose 3*the amount of afd data\n",
    "    temp_afd = temp_afd.loc[np.random.choice(temp_afd.index, 100, replace=False)] # choose 3*the amount of afd data\n",
    "    temp = temp.append(temp_afd) # append afd cases\n",
    "    X_train_temp, X_test_temp, y_train_temp, y_test_temp = train_test_split(\n",
    "        temp.tokens, temp.label, test_size = 0.1, random_state = 42\n",
    "    )\n",
    "    if 'X_train' in locals():\n",
    "        X_train = X_train.append(X_train_temp)\n",
    "        X_test = X_test.append(X_test_temp)\n",
    "        y_train = y_train.append(y_train_temp)\n",
    "        y_test = y_test.append(y_test_temp)\n",
    "        yearvec = yearvec.append(temp.year)\n",
    "        labels_full = labels_full.append(temp.label)\n",
    "    else:\n",
    "        X_train = X_train_temp\n",
    "        X_test  = X_test_temp\n",
    "        y_train = y_train_temp\n",
    "        y_test  = y_test_temp\n",
    "        yearvec = temp.year\n",
    "        labels_full = temp.label\n",
    "\n",
    "X_train = vec.transform(X_train)\n",
    "X_test  = vec.transform(X_test)\n",
    "\n",
    "pd.crosstab(yearvec, labels_full)    "
   ]
  },
  {
   "cell_type": "code",
   "execution_count": 29,
   "id": "d1862c76-9073-4009-97f7-3e41f98d839b",
   "metadata": {
    "tags": []
   },
   "outputs": [],
   "source": [
    "# balance data\n",
    "X_resampled, y_resampled = SMOTE().fit_resample(X_train, y_train)"
   ]
  },
  {
   "cell_type": "code",
   "execution_count": 30,
   "id": "c680e3d7-7f3a-4d1a-befc-b36bc0980bb1",
   "metadata": {},
   "outputs": [
    {
     "data": {
      "text/plain": [
       "LogisticRegression(max_iter=1000)"
      ]
     },
     "execution_count": 30,
     "metadata": {},
     "output_type": "execute_result"
    }
   ],
   "source": [
    "## fit model\n",
    "logreg = LogisticRegression(max_iter = 1000)\n",
    "logreg.fit(X_resampled, y_resampled)"
   ]
  },
  {
   "cell_type": "code",
   "execution_count": 31,
   "id": "da5e64ac-fe5a-4ddb-9ec5-67858a3bec96",
   "metadata": {},
   "outputs": [
    {
     "data": {
      "text/plain": [
       "['_dt/bitrigram_classifier_startified.pkl']"
      ]
     },
     "execution_count": 31,
     "metadata": {},
     "output_type": "execute_result"
    }
   ],
   "source": [
    "## save model\n",
    "joblib.dump(logreg, '_dt/bitrigram_classifier_startified.pkl')"
   ]
  },
  {
   "cell_type": "code",
   "execution_count": 32,
   "id": "43852b50-842c-4ecf-b787-eab8df7f595f",
   "metadata": {},
   "outputs": [
    {
     "name": "stdout",
     "output_type": "stream",
     "text": [
      "Accuracy:  0.7321428571428571\n",
      "Precision:  0.4077669902912621\n",
      "Recall:  0.75\n",
      "F1:  0.5283018867924528\n"
     ]
    }
   ],
   "source": [
    "# assess overall performance\n",
    "from sklearn.metrics import accuracy_score, precision_score, recall_score, f1_score\n",
    "\n",
    "prediction = logreg.predict(X_test)\n",
    "print('Accuracy: ', accuracy_score(y_test, prediction)) # good\n",
    "print('Precision: ', precision_score(y_test, prediction)) # bad\n",
    "print('Recall: ', recall_score(y_test, prediction)) # good\n",
    "print('F1: ', f1_score(y_test, prediction)) # meagre"
   ]
  },
  {
   "cell_type": "code",
   "execution_count": 33,
   "id": "0ffdac14-c470-479a-8790-960155f412fa",
   "metadata": {},
   "outputs": [
    {
     "data": {
      "text/html": [
       "<div>\n",
       "<style scoped>\n",
       "    .dataframe tbody tr th:only-of-type {\n",
       "        vertical-align: middle;\n",
       "    }\n",
       "\n",
       "    .dataframe tbody tr th {\n",
       "        vertical-align: top;\n",
       "    }\n",
       "\n",
       "    .dataframe thead th {\n",
       "        text-align: right;\n",
       "    }\n",
       "</style>\n",
       "<table border=\"1\" class=\"dataframe\">\n",
       "  <thead>\n",
       "    <tr style=\"text-align: right;\">\n",
       "      <th>label</th>\n",
       "      <th>0</th>\n",
       "      <th>1</th>\n",
       "    </tr>\n",
       "    <tr>\n",
       "      <th>row_0</th>\n",
       "      <th></th>\n",
       "      <th></th>\n",
       "    </tr>\n",
       "  </thead>\n",
       "  <tbody>\n",
       "    <tr>\n",
       "      <th>0</th>\n",
       "      <td>163</td>\n",
       "      <td>14</td>\n",
       "    </tr>\n",
       "    <tr>\n",
       "      <th>1</th>\n",
       "      <td>61</td>\n",
       "      <td>42</td>\n",
       "    </tr>\n",
       "  </tbody>\n",
       "</table>\n",
       "</div>"
      ],
      "text/plain": [
       "label    0   1\n",
       "row_0         \n",
       "0      163  14\n",
       "1       61  42"
      ]
     },
     "execution_count": 33,
     "metadata": {},
     "output_type": "execute_result"
    }
   ],
   "source": [
    "pd.crosstab(prediction, y_test)\n",
    "# question is: do we care?"
   ]
  },
  {
   "cell_type": "code",
   "execution_count": 34,
   "id": "7f5fd8ce-afbb-4c39-a080-8e354a74b3e1",
   "metadata": {},
   "outputs": [],
   "source": [
    "# check performance across time \n",
    "# are later PPRs classified more accurately due to higher share of outcome?\n",
    "\n",
    "years = [[]]*7\n",
    "acc = [[]]*7\n",
    "prec = [[]]*7\n",
    "rec = [[]]*7\n",
    "f1 = [[]]*7\n",
    "\n",
    "\n",
    "for year in range(2013, 2020):\n",
    "    temp = pprs.loc[pprs.year == year]\n",
    "    prediction = logreg.predict(vec.transform(temp.tokens))\n",
    "    years[year-2013] = year\n",
    "    acc[year-2013] = accuracy_score(temp.label, prediction) # meagre\n",
    "    prec[year-2013] = precision_score(temp.label, prediction) # really bad\n",
    "    rec[year-2013] = recall_score(temp.label, prediction) # bad\n",
    "    f1[year-2013] = f1_score(temp.label, prediction) # v bad"
   ]
  },
  {
   "cell_type": "code",
   "execution_count": 35,
   "id": "550af910-f30b-4bf6-b5b8-b35e1221752c",
   "metadata": {
    "tags": []
   },
   "outputs": [
    {
     "data": {
      "text/plain": [
       "[<matplotlib.lines.Line2D at 0x7f476527cb20>]"
      ]
     },
     "execution_count": 35,
     "metadata": {},
     "output_type": "execute_result"
    },
    {
     "data": {
      "image/png": "[encoded data removed]",
      "text/plain": [
       "<Figure size 432x288 with 1 Axes>"
      ]
     },
     "metadata": {
      "needs_background": "light"
     },
     "output_type": "display_data"
    }
   ],
   "source": [
    "plt.plot(years, acc, 'r--') # only bad in 2019\n",
    "plt.plot(years, prec, 'bs') # really bad early on\n",
    "plt.plot(years, rec, 'b^') # rel stable\n",
    "plt.plot(years, f1, 'g-') # really bad early on\n"
   ]
  },
  {
   "cell_type": "code",
   "execution_count": 36,
   "id": "e4f56cbb-c004-4f2f-9a0c-f9819834b513",
   "metadata": {},
   "outputs": [],
   "source": [
    "# alternative 3: train only on fraktionen (post 2017)\n",
    "\n",
    "# restrict sample to fraktionen and post 2017:\n",
    "pprs_f = pprs.loc[[re.match('.*fraktion.*', p) != None for p in pprs.party]]\n",
    "pprs_f = pprs_f[pprs_f.year > 2017]"
   ]
  },
  {
   "cell_type": "code",
   "execution_count": 37,
   "id": "3f849095-f04f-436f-8b54-2945c6d5f1cb",
   "metadata": {},
   "outputs": [
    {
     "data": {
      "text/html": [
       "<div>\n",
       "<style scoped>\n",
       "    .dataframe tbody tr th:only-of-type {\n",
       "        vertical-align: middle;\n",
       "    }\n",
       "\n",
       "    .dataframe tbody tr th {\n",
       "        vertical-align: top;\n",
       "    }\n",
       "\n",
       "    .dataframe thead th {\n",
       "        text-align: right;\n",
       "    }\n",
       "</style>\n",
       "<table border=\"1\" class=\"dataframe\">\n",
       "  <thead>\n",
       "    <tr style=\"text-align: right;\">\n",
       "      <th>year</th>\n",
       "      <th>2018</th>\n",
       "      <th>2019</th>\n",
       "    </tr>\n",
       "    <tr>\n",
       "      <th>label</th>\n",
       "      <th></th>\n",
       "      <th></th>\n",
       "    </tr>\n",
       "  </thead>\n",
       "  <tbody>\n",
       "    <tr>\n",
       "      <th>0</th>\n",
       "      <td>2855</td>\n",
       "      <td>1746</td>\n",
       "    </tr>\n",
       "    <tr>\n",
       "      <th>1</th>\n",
       "      <td>1375</td>\n",
       "      <td>772</td>\n",
       "    </tr>\n",
       "  </tbody>\n",
       "</table>\n",
       "</div>"
      ],
      "text/plain": [
       "year   2018  2019\n",
       "label            \n",
       "0      2855  1746\n",
       "1      1375   772"
      ]
     },
     "execution_count": 37,
     "metadata": {},
     "output_type": "execute_result"
    }
   ],
   "source": [
    "pd.crosstab(pprs_f.label, pprs_f.year)"
   ]
  },
  {
   "cell_type": "code",
   "execution_count": 38,
   "id": "8b4be684-801f-4563-a4b4-31247fb8c0be",
   "metadata": {
    "tags": []
   },
   "outputs": [],
   "source": [
    "# define train-test sample\n",
    "X_train, X_test, y_train, y_test = train_test_split(\n",
    "    vec.transform(pprs_f.tokens), pprs_f.label, test_size = 0.1, random_state = 42\n",
    ")"
   ]
  },
  {
   "cell_type": "code",
   "execution_count": 39,
   "id": "fdb5d924-07f2-49c0-a508-4597aad179d4",
   "metadata": {
    "tags": []
   },
   "outputs": [],
   "source": [
    "# balance data\n",
    "X_resampled, y_resampled = SMOTE().fit_resample(X_train, y_train)"
   ]
  },
  {
   "cell_type": "code",
   "execution_count": 40,
   "id": "4ba95ff9-3a85-47a2-a812-7c5ba4116726",
   "metadata": {},
   "outputs": [
    {
     "data": {
      "text/plain": [
       "LogisticRegression(max_iter=1000)"
      ]
     },
     "execution_count": 40,
     "metadata": {},
     "output_type": "execute_result"
    }
   ],
   "source": [
    "## fit model\n",
    "logreg = LogisticRegression(max_iter = 1000)\n",
    "logreg.fit(X_resampled, y_resampled)"
   ]
  },
  {
   "cell_type": "code",
   "execution_count": 41,
   "id": "1edb76b3-eb6f-4112-a344-5e46b4fc3945",
   "metadata": {},
   "outputs": [
    {
     "data": {
      "text/plain": [
       "['_dt/bitrigram_classifier_1819_fraktionen_strat.pkl']"
      ]
     },
     "execution_count": 41,
     "metadata": {},
     "output_type": "execute_result"
    }
   ],
   "source": [
    "## save model\n",
    "joblib.dump(logreg, '_dt/bitrigram_classifier_1819_fraktionen.pkl')"
   ]
  },
  {
   "cell_type": "code",
   "execution_count": 42,
   "id": "2fdaf16b-8b8c-443f-8601-0c17fce596ea",
   "metadata": {},
   "outputs": [
    {
     "name": "stdout",
     "output_type": "stream",
     "text": [
      "Accuracy:  0.7081481481481482\n",
      "Precision:  0.5331125827814569\n",
      "Recall:  0.7419354838709677\n",
      "F1:  0.6204238921001927\n"
     ]
    }
   ],
   "source": [
    "# assess overall performance\n",
    "from sklearn.metrics import accuracy_score, precision_score, recall_score, f1_score\n",
    "\n",
    "prediction = logreg.predict(X_test)\n",
    "print('Accuracy: ', accuracy_score(y_test, prediction)) # ok\n",
    "print('Precision: ', precision_score(y_test, prediction)) # meagre\n",
    "print('Recall: ', recall_score(y_test, prediction)) # ok\n",
    "print('F1: ', f1_score(y_test, prediction)) # hmmm"
   ]
  },
  {
   "cell_type": "code",
   "execution_count": 43,
   "id": "f51ba4e7-ae50-4198-8bcb-e841f0162316",
   "metadata": {},
   "outputs": [
    {
     "data": {
      "text/html": [
       "<div>\n",
       "<style scoped>\n",
       "    .dataframe tbody tr th:only-of-type {\n",
       "        vertical-align: middle;\n",
       "    }\n",
       "\n",
       "    .dataframe tbody tr th {\n",
       "        vertical-align: top;\n",
       "    }\n",
       "\n",
       "    .dataframe thead th {\n",
       "        text-align: right;\n",
       "    }\n",
       "</style>\n",
       "<table border=\"1\" class=\"dataframe\">\n",
       "  <thead>\n",
       "    <tr style=\"text-align: right;\">\n",
       "      <th>label</th>\n",
       "      <th>0</th>\n",
       "      <th>1</th>\n",
       "    </tr>\n",
       "    <tr>\n",
       "      <th>row_0</th>\n",
       "      <th></th>\n",
       "      <th></th>\n",
       "    </tr>\n",
       "  </thead>\n",
       "  <tbody>\n",
       "    <tr>\n",
       "      <th>0</th>\n",
       "      <td>317</td>\n",
       "      <td>56</td>\n",
       "    </tr>\n",
       "    <tr>\n",
       "      <th>1</th>\n",
       "      <td>141</td>\n",
       "      <td>161</td>\n",
       "    </tr>\n",
       "  </tbody>\n",
       "</table>\n",
       "</div>"
      ],
      "text/plain": [
       "label    0    1\n",
       "row_0          \n",
       "0      317   56\n",
       "1      141  161"
      ]
     },
     "execution_count": 43,
     "metadata": {},
     "output_type": "execute_result"
    }
   ],
   "source": [
    "pd.crosstab(prediction, y_test)\n",
    "# question is: do we care?"
   ]
  },
  {
   "cell_type": "code",
   "execution_count": 44,
   "id": "a4f136ab-6c06-464d-b0e0-dce97470f7c3",
   "metadata": {},
   "outputs": [],
   "source": [
    "# check performance across time \n",
    "# are later PPRs classified more accurately due to higher share of outcome?\n",
    "\n",
    "years = [[]]*7\n",
    "acc = [[]]*7\n",
    "prec = [[]]*7\n",
    "rec = [[]]*7\n",
    "f1 = [[]]*7\n",
    "\n",
    "\n",
    "for year in range(2013, 2020):\n",
    "    temp = pprs.loc[pprs.year == year]\n",
    "    prediction = logreg.predict(vec.transform(temp.tokens))\n",
    "    years[year-2013] = year\n",
    "    acc[year-2013] = accuracy_score(temp.label, prediction) # meagre\n",
    "    prec[year-2013] = precision_score(temp.label, prediction) # really bad\n",
    "    rec[year-2013] = recall_score(temp.label, prediction) # bad\n",
    "    f1[year-2013] = f1_score(temp.label, prediction) # v bad"
   ]
  },
  {
   "cell_type": "code",
   "execution_count": 45,
   "id": "c9ef1da4-cae0-425f-a6d0-d0bb5f311f72",
   "metadata": {
    "tags": []
   },
   "outputs": [
    {
     "data": {
      "text/plain": [
       "[<matplotlib.lines.Line2D at 0x7f4765190910>]"
      ]
     },
     "execution_count": 45,
     "metadata": {},
     "output_type": "execute_result"
    },
    {
     "data": {
      "image/png": "[encoded data removed]",
      "text/plain": [
       "<Figure size 432x288 with 1 Axes>"
      ]
     },
     "metadata": {
      "needs_background": "light"
     },
     "output_type": "display_data"
    }
   ],
   "source": [
    "plt.plot(years, acc, 'r--') # rel stable\n",
    "plt.plot(years, prec, 'bs') # really bad early on\n",
    "plt.plot(years, rec, 'b^') # rel stable\n",
    "plt.plot(years, f1, 'g-') # really bad early on\n"
   ]
  },
  {
   "cell_type": "code",
   "execution_count": 46,
   "id": "84a7a99a-542c-4dce-8979-6c0900799c6b",
   "metadata": {},
   "outputs": [],
   "source": [
    "import eli5"
   ]
  },
  {
   "cell_type": "code",
   "execution_count": 47,
   "id": "1f057dd9-90bd-49f0-a31e-7c50cc291739",
   "metadata": {
    "tags": []
   },
   "outputs": [
    {
     "data": {
      "text/html": [
       "\n",
       "    <style>\n",
       "    table.eli5-weights tr:hover {\n",
       "        filter: brightness(85%);\n",
       "    }\n",
       "</style>\n",
       "\n",
       "\n",
       "\n",
       "    \n",
       "\n",
       "    \n",
       "\n",
       "    \n",
       "\n",
       "    \n",
       "\n",
       "    \n",
       "\n",
       "    \n",
       "\n",
       "\n",
       "    \n",
       "\n",
       "    \n",
       "\n",
       "    \n",
       "\n",
       "    \n",
       "        \n",
       "\n",
       "    \n",
       "\n",
       "        \n",
       "            \n",
       "                \n",
       "                \n",
       "    \n",
       "        <p style=\"margin-bottom: 0.5em; margin-top: 0em\">\n",
       "            <b>\n",
       "    \n",
       "        y=1\n",
       "    \n",
       "</b>\n",
       "\n",
       "top features\n",
       "        </p>\n",
       "    \n",
       "    <table class=\"eli5-weights\"\n",
       "           style=\"border-collapse: collapse; border: none; margin-top: 0em; table-layout: auto; margin-bottom: 2em;\">\n",
       "        <thead>\n",
       "        <tr style=\"border: none;\">\n",
       "            \n",
       "                <th style=\"padding: 0 1em 0 0.5em; text-align: right; border: none;\" title=\"Feature weights. Note that weights do not account for feature value scales, so if feature values have different scales, features with highest weights might not be the most important.\">\n",
       "                    Weight<sup>?</sup>\n",
       "                </th>\n",
       "            \n",
       "            <th style=\"padding: 0 0.5em 0 0.5em; text-align: left; border: none;\">Feature</th>\n",
       "            \n",
       "        </tr>\n",
       "        </thead>\n",
       "        <tbody>\n",
       "        \n",
       "            <tr style=\"background-color: hsl(120, 100.00%, 84.44%); border: none;\">\n",
       "    <td style=\"padding: 0 1em 0 0.5em; text-align: right; border: none;\">\n",
       "        +2.135\n",
       "    </td>\n",
       "    <td style=\"padding: 0 0.5em 0 0.5em; text-align: left; border: none;\">\n",
       "        auswärtigen ausschusses\n",
       "    </td>\n",
       "    \n",
       "</tr>\n",
       "        \n",
       "            <tr style=\"background-color: hsl(120, 100.00%, 85.99%); border: none;\">\n",
       "    <td style=\"padding: 0 1em 0 0.5em; text-align: right; border: none;\">\n",
       "        +1.837\n",
       "    </td>\n",
       "    <td style=\"padding: 0 0.5em 0 0.5em; text-align: left; border: none;\">\n",
       "        offenen grenzen\n",
       "    </td>\n",
       "    \n",
       "</tr>\n",
       "        \n",
       "            <tr style=\"background-color: hsl(120, 100.00%, 86.27%); border: none;\">\n",
       "    <td style=\"padding: 0 1em 0 0.5em; text-align: right; border: none;\">\n",
       "        +1.785\n",
       "    </td>\n",
       "    <td style=\"padding: 0 0.5em 0 0.5em; text-align: left; border: none;\">\n",
       "        stellt fest\n",
       "    </td>\n",
       "    \n",
       "</tr>\n",
       "        \n",
       "            <tr style=\"background-color: hsl(120, 100.00%, 86.43%); border: none;\">\n",
       "    <td style=\"padding: 0 1em 0 0.5em; text-align: right; border: none;\">\n",
       "        +1.754\n",
       "    </td>\n",
       "    <td style=\"padding: 0 0.5em 0 0.5em; text-align: left; border: none;\">\n",
       "        baden württemberg\n",
       "    </td>\n",
       "    \n",
       "</tr>\n",
       "        \n",
       "            <tr style=\"background-color: hsl(120, 100.00%, 86.51%); border: none;\">\n",
       "    <td style=\"padding: 0 1em 0 0.5em; text-align: right; border: none;\">\n",
       "        +1.739\n",
       "    </td>\n",
       "    <td style=\"padding: 0 0.5em 0 0.5em; text-align: left; border: none;\">\n",
       "        frau merkel\n",
       "    </td>\n",
       "    \n",
       "</tr>\n",
       "        \n",
       "        \n",
       "            <tr style=\"background-color: hsl(120, 100.00%, 86.51%); border: none;\">\n",
       "                <td colspan=\"2\" style=\"padding: 0 0.5em 0 0.5em; text-align: center; border: none; white-space: nowrap;\">\n",
       "                    <i>&hellip; 2249 more positive &hellip;</i>\n",
       "                </td>\n",
       "            </tr>\n",
       "        \n",
       "\n",
       "        \n",
       "            <tr style=\"background-color: hsl(0, 100.00%, 87.02%); border: none;\">\n",
       "                <td colspan=\"2\" style=\"padding: 0 0.5em 0 0.5em; text-align: center; border: none; white-space: nowrap;\">\n",
       "                    <i>&hellip; 2351 more negative &hellip;</i>\n",
       "                </td>\n",
       "            </tr>\n",
       "        \n",
       "        \n",
       "            <tr style=\"background-color: hsl(0, 100.00%, 87.02%); border: none;\">\n",
       "    <td style=\"padding: 0 1em 0 0.5em; text-align: right; border: none;\">\n",
       "        -1.648\n",
       "    </td>\n",
       "    <td style=\"padding: 0 0.5em 0 0.5em; text-align: left; border: none;\">\n",
       "        falsche signal\n",
       "    </td>\n",
       "    \n",
       "</tr>\n",
       "        \n",
       "            <tr style=\"background-color: hsl(0, 100.00%, 87.01%); border: none;\">\n",
       "    <td style=\"padding: 0 1em 0 0.5em; text-align: right; border: none;\">\n",
       "        -1.650\n",
       "    </td>\n",
       "    <td style=\"padding: 0 0.5em 0 0.5em; text-align: left; border: none;\">\n",
       "        große herausforderungen\n",
       "    </td>\n",
       "    \n",
       "</tr>\n",
       "        \n",
       "            <tr style=\"background-color: hsl(0, 100.00%, 86.45%); border: none;\">\n",
       "    <td style=\"padding: 0 1em 0 0.5em; text-align: right; border: none;\">\n",
       "        -1.752\n",
       "    </td>\n",
       "    <td style=\"padding: 0 0.5em 0 0.5em; text-align: left; border: none;\">\n",
       "        internationale gemeinschaft\n",
       "    </td>\n",
       "    \n",
       "</tr>\n",
       "        \n",
       "            <tr style=\"background-color: hsl(0, 100.00%, 86.29%); border: none;\">\n",
       "    <td style=\"padding: 0 1em 0 0.5em; text-align: right; border: none;\">\n",
       "        -1.780\n",
       "    </td>\n",
       "    <td style=\"padding: 0 0.5em 0 0.5em; text-align: left; border: none;\">\n",
       "        leben menschen\n",
       "    </td>\n",
       "    \n",
       "</tr>\n",
       "        \n",
       "            <tr style=\"background-color: hsl(0, 100.00%, 86.25%); border: none;\">\n",
       "    <td style=\"padding: 0 1em 0 0.5em; text-align: right; border: none;\">\n",
       "        -1.789\n",
       "    </td>\n",
       "    <td style=\"padding: 0 0.5em 0 0.5em; text-align: left; border: none;\">\n",
       "        beitrag leisten\n",
       "    </td>\n",
       "    \n",
       "</tr>\n",
       "        \n",
       "            <tr style=\"background-color: hsl(0, 100.00%, 86.19%); border: none;\">\n",
       "    <td style=\"padding: 0 1em 0 0.5em; text-align: right; border: none;\">\n",
       "        -1.800\n",
       "    </td>\n",
       "    <td style=\"padding: 0 0.5em 0 0.5em; text-align: left; border: none;\">\n",
       "        höchste zeit\n",
       "    </td>\n",
       "    \n",
       "</tr>\n",
       "        \n",
       "            <tr style=\"background-color: hsl(0, 100.00%, 86.08%); border: none;\">\n",
       "    <td style=\"padding: 0 1em 0 0.5em; text-align: right; border: none;\">\n",
       "        -1.821\n",
       "    </td>\n",
       "    <td style=\"padding: 0 0.5em 0 0.5em; text-align: left; border: none;\">\n",
       "        migrationspolitische sprecherin\n",
       "    </td>\n",
       "    \n",
       "</tr>\n",
       "        \n",
       "            <tr style=\"background-color: hsl(0, 100.00%, 85.73%); border: none;\">\n",
       "    <td style=\"padding: 0 1em 0 0.5em; text-align: right; border: none;\">\n",
       "        -1.885\n",
       "    </td>\n",
       "    <td style=\"padding: 0 0.5em 0 0.5em; text-align: left; border: none;\">\n",
       "        koalitionsvertrag vereinbart\n",
       "    </td>\n",
       "    \n",
       "</tr>\n",
       "        \n",
       "            <tr style=\"background-color: hsl(0, 100.00%, 85.70%); border: none;\">\n",
       "    <td style=\"padding: 0 1em 0 0.5em; text-align: right; border: none;\">\n",
       "        -1.892\n",
       "    </td>\n",
       "    <td style=\"padding: 0 0.5em 0 0.5em; text-align: left; border: none;\">\n",
       "        gute nachricht\n",
       "    </td>\n",
       "    \n",
       "</tr>\n",
       "        \n",
       "            <tr style=\"background-color: hsl(0, 100.00%, 85.03%); border: none;\">\n",
       "    <td style=\"padding: 0 1em 0 0.5em; text-align: right; border: none;\">\n",
       "        -2.019\n",
       "    </td>\n",
       "    <td style=\"padding: 0 0.5em 0 0.5em; text-align: left; border: none;\">\n",
       "        dringend notwendig\n",
       "    </td>\n",
       "    \n",
       "</tr>\n",
       "        \n",
       "            <tr style=\"background-color: hsl(0, 100.00%, 84.91%); border: none;\">\n",
       "    <td style=\"padding: 0 1em 0 0.5em; text-align: right; border: none;\">\n",
       "        -2.042\n",
       "    </td>\n",
       "    <td style=\"padding: 0 0.5em 0 0.5em; text-align: left; border: none;\">\n",
       "        brauchen dringend\n",
       "    </td>\n",
       "    \n",
       "</tr>\n",
       "        \n",
       "            <tr style=\"background-color: hsl(0, 100.00%, 84.80%); border: none;\">\n",
       "    <td style=\"padding: 0 1em 0 0.5em; text-align: right; border: none;\">\n",
       "        -2.064\n",
       "    </td>\n",
       "    <td style=\"padding: 0 0.5em 0 0.5em; text-align: left; border: none;\">\n",
       "        brauchen mehr\n",
       "    </td>\n",
       "    \n",
       "</tr>\n",
       "        \n",
       "            <tr style=\"background-color: hsl(0, 100.00%, 81.59%); border: none;\">\n",
       "    <td style=\"padding: 0 1em 0 0.5em; text-align: right; border: none;\">\n",
       "        -2.713\n",
       "    </td>\n",
       "    <td style=\"padding: 0 0.5em 0 0.5em; text-align: left; border: none;\">\n",
       "        wichtiger schritt\n",
       "    </td>\n",
       "    \n",
       "</tr>\n",
       "        \n",
       "            <tr style=\"background-color: hsl(0, 100.00%, 80.04%); border: none;\">\n",
       "    <td style=\"padding: 0 1em 0 0.5em; text-align: right; border: none;\">\n",
       "        -3.045\n",
       "    </td>\n",
       "    <td style=\"padding: 0 0.5em 0 0.5em; text-align: left; border: none;\">\n",
       "        innenpolitische sprecherin\n",
       "    </td>\n",
       "    \n",
       "</tr>\n",
       "        \n",
       "            <tr style=\"background-color: hsl(0, 100.00%, 80.00%); border: none;\">\n",
       "    <td style=\"padding: 0 1em 0 0.5em; text-align: right; border: none;\">\n",
       "        -3.054\n",
       "    </td>\n",
       "    <td style=\"padding: 0 0.5em 0 0.5em; text-align: left; border: none;\">\n",
       "        bürgerinnen bürger\n",
       "    </td>\n",
       "    \n",
       "</tr>\n",
       "        \n",
       "\n",
       "        </tbody>\n",
       "    </table>\n",
       "\n",
       "            \n",
       "        \n",
       "\n",
       "        \n",
       "\n",
       "\n",
       "\n",
       "    \n",
       "\n",
       "    \n",
       "\n",
       "    \n",
       "\n",
       "    \n",
       "\n",
       "\n",
       "    \n",
       "\n",
       "    \n",
       "\n",
       "    \n",
       "\n",
       "    \n",
       "\n",
       "    \n",
       "\n",
       "    \n",
       "\n",
       "\n",
       "    \n",
       "\n",
       "    \n",
       "\n",
       "    \n",
       "\n",
       "    \n",
       "\n",
       "    \n",
       "\n",
       "    \n",
       "\n",
       "\n",
       "\n"
      ],
      "text/plain": [
       "<IPython.core.display.HTML object>"
      ]
     },
     "execution_count": 47,
     "metadata": {},
     "output_type": "execute_result"
    }
   ],
   "source": [
    "eli5.show_weights(logreg, feature_names = vec.get_feature_names())"
   ]
  },
  {
   "cell_type": "code",
   "execution_count": 48,
   "id": "2607f8e8-df59-431a-89ab-f39249115a2b",
   "metadata": {},
   "outputs": [],
   "source": [
    "import matplotlib as plt\n",
    "import seaborn as sns\n",
    "\n",
    "def FeaturePlot(clf, vectorizer):\n",
    "\n",
    "    feature_names = vectorizer.get_feature_names()\n",
    "    \n",
    "    top30_index = np.argsort(clf.coef_[0])[-30:]\n",
    "        \n",
    "    top30_coefs = pd.Series([clf.coef_[0][j] for j in top30_index])\n",
    "    top30_features = pd.Series([feature_names[j] for j in top30_index])\n",
    "    top30 = pd.concat([top30_coefs, top30_features], axis = 1)\n",
    "    \n",
    "    # plot\n",
    "    sns.set(rc={'figure.figsize':(10,10)})\n",
    "    plot = sns.barplot(data=top30, x=0, y=1, alpha=.8)\n",
    "    plot.set(xlim=(0,None))"
   ]
  },
  {
   "cell_type": "code",
   "execution_count": 49,
   "id": "27691d46-3fbb-4463-89a4-c45fdf3badee",
   "metadata": {},
   "outputs": [
    {
     "data": {
      "image/png": "[encoded data removed]",
      "text/plain": [
       "<Figure size 720x720 with 1 Axes>"
      ]
     },
     "metadata": {},
     "output_type": "display_data"
    }
   ],
   "source": [
    "FeaturePlot(logreg, vec)"
   ]
  }
 ],
 "metadata": {
  "kernelspec": {
   "display_name": "Python 3",
   "language": "python",
   "name": "python3"
  },
  "language_info": {
   "codemirror_mode": {
    "name": "ipython",
    "version": 3
   },
   "file_extension": ".py",
   "mimetype": "text/x-python",
   "name": "python",
   "nbconvert_exporter": "python",
   "pygments_lexer": "ipython3",
   "version": "3.8.10"
  }
 },
 "nbformat": 4,
 "nbformat_minor": 5
}
