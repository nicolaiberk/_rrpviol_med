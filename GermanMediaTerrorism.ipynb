{
  "nbformat": 4,
  "nbformat_minor": 0,
  "metadata": {
    "colab": {
      "name": "GermanMediaTerrorism.ipynb",
      "provenance": [],
      "collapsed_sections": [],
      "mount_file_id": "1L_PCHpVWWFVOWXV3qpuWOYvzyytW9V21",
      "authorship_tag": "ABX9TyO7LGmEB+iEPUKR1SYOByNN",
      "include_colab_link": true
    },
    "kernelspec": {
      "name": "python3",
      "display_name": "Python 3"
    },
    "language_info": {
      "name": "python"
    }
  },
  "cells": [
    {
      "cell_type": "markdown",
      "metadata": {
        "id": "view-in-github",
        "colab_type": "text"
      },
      "source": [
        "<a href=\"https://colab.research.google.com/github/nicolaiberk/_rrpviol_med/blob/master/GermanMediaTerrorism.ipynb\" target=\"_parent\"><img src=\"https://colab.research.google.com/assets/colab-badge.svg\" alt=\"Open In Colab\"/></a>"
      ]
    },
    {
      "cell_type": "markdown",
      "source": [
        "# German Media Reactions to right-wing terrorism"
      ],
      "metadata": {
        "id": "VXocTRgqKGp4"
      }
    },
    {
      "cell_type": "code",
      "execution_count": 15,
      "metadata": {
        "id": "W81PLtSiJ9B5"
      },
      "outputs": [],
      "source": [
        "# load embeddings\n",
        "from gensim.models import KeyedVectors\n",
        "wv = KeyedVectors.load(\"drive/MyDrive/rrpviol_dta/word2vec.wordvectors\", mmap = 'r')"
      ]
    },
    {
      "cell_type": "code",
      "source": [
        "terror_dict = [w for w,s in wv.most_similar('anschlag', topn=50)]"
      ],
      "metadata": {
        "id": "xtlEUhlSKfV1"
      },
      "execution_count": 21,
      "outputs": []
    },
    {
      "cell_type": "code",
      "source": [
        "not_rr_words = ['linksradikal', 'linksextrem', 'frauenfeindlich', 'homophob', 'antifaschistisch', 'linksliberal', 'links', 'populistisch', 'prorussisch',\n",
        " 'progressiv',\n",
        " 'wertkonservativ',\n",
        " 'liberal', \n",
        " 'sexistisch',\n",
        " '„konservativ“',\n",
        " 'antirassistisch',\n",
        " 'ausgrenzend',\n",
        " 'minderwertig',\n",
        " 'konservativ',\n",
        " 'wirtschaftsliberal',\n",
        " '„spinner“',\n",
        " 'rückwärtsgewandt',\n",
        " 'unpolitisch',\n",
        " '„links“']"
      ],
      "metadata": {
        "id": "a0L80PH1PWjB"
      },
      "execution_count": 35,
      "outputs": []
    },
    {
      "cell_type": "code",
      "source": [
        "right_dict = [w for w,s in wv.most_similar('rechtsradikal', topn=50) if w not in not_rr_words]"
      ],
      "metadata": {
        "id": "kUZNmv77PDme"
      },
      "execution_count": 36,
      "outputs": []
    },
    {
      "cell_type": "code",
      "source": [
        "right_dict"
      ],
      "metadata": {
        "colab": {
          "base_uri": "https://localhost:8080/"
        },
        "id": "MX5_L2FmPUdn",
        "outputId": "392ea1ab-4b6b-4bb6-832e-012d0f42750e"
      },
      "execution_count": 37,
      "outputs": [
        {
          "output_type": "execute_result",
          "data": {
            "text/plain": [
              "['ausländerfeindlich',\n",
              " 'rechtsextrem',\n",
              " 'rechtspopulistisch',\n",
              " 'fremdenfeindlich',\n",
              " 'extremistisch',\n",
              " 'islamfeindlich',\n",
              " 'verfassungsfeindlich',\n",
              " 'antisemitisch',\n",
              " 'islamophob',\n",
              " 'schwulenfeindlich',\n",
              " 'antidemokratisch',\n",
              " 'faschistisch',\n",
              " 'völkisch',\n",
              " 'menschenfeindlich',\n",
              " 'nationalistisch',\n",
              " 'rechtsextremistisch',\n",
              " 'rassistisch',\n",
              " 'reaktionär',\n",
              " '„rechts“',\n",
              " 'antieuropäisch',\n",
              " 'volksverhetzend',\n",
              " 'intolerant',\n",
              " 'nationalsozialistisch',\n",
              " 'gewaltbereit',\n",
              " '„rassistisch“',\n",
              " 'terroristisch',\n",
              " 'patriotisch',\n",
              " 'militant']"
            ]
          },
          "metadata": {},
          "execution_count": 37
        }
      ]
    },
    {
      "cell_type": "code",
      "source": [
        "mental_dict = ['verstört', # produced from several dicts\n",
        " 'desorientiert',\n",
        " 'verängstigt',\n",
        " 'irritiert',\n",
        " 'orientierungslos',\n",
        " 'angeekelt',\n",
        " 'hilflos',\n",
        " 'paranoid',\n",
        " 'zornig',\n",
        " 'hysterisch',\n",
        " 'panisch',\n",
        " 'verbittert', 'verrückter', 'verzweifelt', 'irrer', 'wahnsinniger', 'wahn', 'verfolgungswahn', 'irrsinn', 'wahnsinn',\n",
        " 'amoklauf', 'amokläufer', 'einzeltäter', 'spinner']"
      ],
      "metadata": {
        "id": "DM8MDlOmQhqK"
      },
      "execution_count": 74,
      "outputs": []
    },
    {
      "cell_type": "code",
      "source": [
        "# load articles\n",
        "import pandas as pd\n",
        "import numpy as np\n",
        "np_sample = pd.read_csv(\"https://www.dropbox.com/s/kc0ylljmp9h9imf/full_sample.csv?dl=1\")"
      ],
      "metadata": {
        "id": "Zj5lyxZoS46u"
      },
      "execution_count": 76,
      "outputs": []
    },
    {
      "cell_type": "code",
      "source": [
        "np_sample.head()"
      ],
      "metadata": {
        "colab": {
          "base_uri": "https://localhost:8080/",
          "height": 337
        },
        "id": "W4-11h__dV4E",
        "outputId": "ec756951-8011-49ca-d251-d54dbb73d9de"
      },
      "execution_count": 78,
      "outputs": [
        {
          "output_type": "execute_result",
          "data": {
            "text/plain": [
              "         date                                                url  \\\n",
              "0  2016-07-31  https://www.welt.de/politik/deutschland/articl...   \n",
              "1  2013-02-26  https://www.welt.de/debatte/kommentare/article...   \n",
              "2  2013-01-31  https://www.welt.de/regionales/muenchen/articl...   \n",
              "3  2017-09-08  https://www.welt.de/icon/uhren/article16840924...   \n",
              "4  2018-08-26  https://www.welt.de/wirtschaft/article18130991...   \n",
              "\n",
              "                                                text paper  \n",
              "0  Die Türkei droht der Europäischen Union ultima...  Welt  \n",
              "1  Gerechtigkeit ist ein Ideal. Geraten Ideale in...  Welt  \n",
              "2  Genau 70 Jahre nach der Hinrichtung der Münchn...  Welt  \n",
              "3  Design ist Geschmackssache. Zumindest sagen da...  Welt  \n",
              "4  Häuslebauer betteln um Handwerker, Autofahrer ...  Welt  "
            ],
            "text/html": [
              "\n",
              "  <div id=\"df-6dde0124-9ca0-4845-99b4-c3c25b85b592\">\n",
              "    <div class=\"colab-df-container\">\n",
              "      <div>\n",
              "<style scoped>\n",
              "    .dataframe tbody tr th:only-of-type {\n",
              "        vertical-align: middle;\n",
              "    }\n",
              "\n",
              "    .dataframe tbody tr th {\n",
              "        vertical-align: top;\n",
              "    }\n",
              "\n",
              "    .dataframe thead th {\n",
              "        text-align: right;\n",
              "    }\n",
              "</style>\n",
              "<table border=\"1\" class=\"dataframe\">\n",
              "  <thead>\n",
              "    <tr style=\"text-align: right;\">\n",
              "      <th></th>\n",
              "      <th>date</th>\n",
              "      <th>url</th>\n",
              "      <th>text</th>\n",
              "      <th>paper</th>\n",
              "    </tr>\n",
              "  </thead>\n",
              "  <tbody>\n",
              "    <tr>\n",
              "      <th>0</th>\n",
              "      <td>2016-07-31</td>\n",
              "      <td>https://www.welt.de/politik/deutschland/articl...</td>\n",
              "      <td>Die Türkei droht der Europäischen Union ultima...</td>\n",
              "      <td>Welt</td>\n",
              "    </tr>\n",
              "    <tr>\n",
              "      <th>1</th>\n",
              "      <td>2013-02-26</td>\n",
              "      <td>https://www.welt.de/debatte/kommentare/article...</td>\n",
              "      <td>Gerechtigkeit ist ein Ideal. Geraten Ideale in...</td>\n",
              "      <td>Welt</td>\n",
              "    </tr>\n",
              "    <tr>\n",
              "      <th>2</th>\n",
              "      <td>2013-01-31</td>\n",
              "      <td>https://www.welt.de/regionales/muenchen/articl...</td>\n",
              "      <td>Genau 70 Jahre nach der Hinrichtung der Münchn...</td>\n",
              "      <td>Welt</td>\n",
              "    </tr>\n",
              "    <tr>\n",
              "      <th>3</th>\n",
              "      <td>2017-09-08</td>\n",
              "      <td>https://www.welt.de/icon/uhren/article16840924...</td>\n",
              "      <td>Design ist Geschmackssache. Zumindest sagen da...</td>\n",
              "      <td>Welt</td>\n",
              "    </tr>\n",
              "    <tr>\n",
              "      <th>4</th>\n",
              "      <td>2018-08-26</td>\n",
              "      <td>https://www.welt.de/wirtschaft/article18130991...</td>\n",
              "      <td>Häuslebauer betteln um Handwerker, Autofahrer ...</td>\n",
              "      <td>Welt</td>\n",
              "    </tr>\n",
              "  </tbody>\n",
              "</table>\n",
              "</div>\n",
              "      <button class=\"colab-df-convert\" onclick=\"convertToInteractive('df-6dde0124-9ca0-4845-99b4-c3c25b85b592')\"\n",
              "              title=\"Convert this dataframe to an interactive table.\"\n",
              "              style=\"display:none;\">\n",
              "        \n",
              "  <svg xmlns=\"http://www.w3.org/2000/svg\" height=\"24px\"viewBox=\"0 0 24 24\"\n",
              "       width=\"24px\">\n",
              "    <path d=\"M0 0h24v24H0V0z\" fill=\"none\"/>\n",
              "    <path d=\"M18.56 5.44l.94 2.06.94-2.06 2.06-.94-2.06-.94-.94-2.06-.94 2.06-2.06.94zm-11 1L8.5 8.5l.94-2.06 2.06-.94-2.06-.94L8.5 2.5l-.94 2.06-2.06.94zm10 10l.94 2.06.94-2.06 2.06-.94-2.06-.94-.94-2.06-.94 2.06-2.06.94z\"/><path d=\"M17.41 7.96l-1.37-1.37c-.4-.4-.92-.59-1.43-.59-.52 0-1.04.2-1.43.59L10.3 9.45l-7.72 7.72c-.78.78-.78 2.05 0 2.83L4 21.41c.39.39.9.59 1.41.59.51 0 1.02-.2 1.41-.59l7.78-7.78 2.81-2.81c.8-.78.8-2.07 0-2.86zM5.41 20L4 18.59l7.72-7.72 1.47 1.35L5.41 20z\"/>\n",
              "  </svg>\n",
              "      </button>\n",
              "      \n",
              "  <style>\n",
              "    .colab-df-container {\n",
              "      display:flex;\n",
              "      flex-wrap:wrap;\n",
              "      gap: 12px;\n",
              "    }\n",
              "\n",
              "    .colab-df-convert {\n",
              "      background-color: #E8F0FE;\n",
              "      border: none;\n",
              "      border-radius: 50%;\n",
              "      cursor: pointer;\n",
              "      display: none;\n",
              "      fill: #1967D2;\n",
              "      height: 32px;\n",
              "      padding: 0 0 0 0;\n",
              "      width: 32px;\n",
              "    }\n",
              "\n",
              "    .colab-df-convert:hover {\n",
              "      background-color: #E2EBFA;\n",
              "      box-shadow: 0px 1px 2px rgba(60, 64, 67, 0.3), 0px 1px 3px 1px rgba(60, 64, 67, 0.15);\n",
              "      fill: #174EA6;\n",
              "    }\n",
              "\n",
              "    [theme=dark] .colab-df-convert {\n",
              "      background-color: #3B4455;\n",
              "      fill: #D2E3FC;\n",
              "    }\n",
              "\n",
              "    [theme=dark] .colab-df-convert:hover {\n",
              "      background-color: #434B5C;\n",
              "      box-shadow: 0px 1px 3px 1px rgba(0, 0, 0, 0.15);\n",
              "      filter: drop-shadow(0px 1px 2px rgba(0, 0, 0, 0.3));\n",
              "      fill: #FFFFFF;\n",
              "    }\n",
              "  </style>\n",
              "\n",
              "      <script>\n",
              "        const buttonEl =\n",
              "          document.querySelector('#df-6dde0124-9ca0-4845-99b4-c3c25b85b592 button.colab-df-convert');\n",
              "        buttonEl.style.display =\n",
              "          google.colab.kernel.accessAllowed ? 'block' : 'none';\n",
              "\n",
              "        async function convertToInteractive(key) {\n",
              "          const element = document.querySelector('#df-6dde0124-9ca0-4845-99b4-c3c25b85b592');\n",
              "          const dataTable =\n",
              "            await google.colab.kernel.invokeFunction('convertToInteractive',\n",
              "                                                     [key], {});\n",
              "          if (!dataTable) return;\n",
              "\n",
              "          const docLinkHtml = 'Like what you see? Visit the ' +\n",
              "            '<a target=\"_blank\" href=https://colab.research.google.com/notebooks/data_table.ipynb>data table notebook</a>'\n",
              "            + ' to learn more about interactive tables.';\n",
              "          element.innerHTML = '';\n",
              "          dataTable['output_type'] = 'display_data';\n",
              "          await google.colab.output.renderOutput(dataTable, element);\n",
              "          const docLink = document.createElement('div');\n",
              "          docLink.innerHTML = docLinkHtml;\n",
              "          element.appendChild(docLink);\n",
              "        }\n",
              "      </script>\n",
              "    </div>\n",
              "  </div>\n",
              "  "
            ]
          },
          "metadata": {},
          "execution_count": 78
        }
      ]
    },
    {
      "cell_type": "code",
      "source": [
        "np_sample.shape"
      ],
      "metadata": {
        "colab": {
          "base_uri": "https://localhost:8080/"
        },
        "id": "zug_os3hdbnP",
        "outputId": "0e43cca8-a2e4-4f40-9787-e1fba6ae40e1"
      },
      "execution_count": 80,
      "outputs": [
        {
          "output_type": "execute_result",
          "data": {
            "text/plain": [
              "(60000, 4)"
            ]
          },
          "metadata": {},
          "execution_count": 80
        }
      ]
    },
    {
      "cell_type": "code",
      "source": [
        "# count prevalence\n",
        "import nltk\n",
        "nltk.download('punkt')\n",
        "from nltk.tokenize import word_tokenize\n",
        "from tqdm import tqdm\n",
        "\n",
        "terror_count = []\n",
        "rr_count = []\n",
        "mental_count = []\n",
        "\n",
        "for article in tqdm(np_sample.text):\n",
        "  terror_counter = 0\n",
        "  rr_counter = 0\n",
        "  mental_counter = 0\n",
        "  if isinstance(article, str):\n",
        "    for word in word_tokenize(article):\n",
        "      if str.lower(word) in terror_dict:\n",
        "        terror_counter += 1\n",
        "      if str.lower(word) in right_dict:\n",
        "        rr_counter += 1\n",
        "      if str.lower(word) in mental_dict:\n",
        "        mental_counter += 1\n",
        "\n",
        "  terror_count.append(terror_counter)\n",
        "  rr_count.append(rr_counter)\n",
        "  mental_count.append(mental_counter)\n"
      ],
      "metadata": {
        "colab": {
          "base_uri": "https://localhost:8080/"
        },
        "id": "I4s3p-Zcdc4K",
        "outputId": "bfffde33-ecbf-40e4-95e5-20de5ac7f683"
      },
      "execution_count": 97,
      "outputs": [
        {
          "output_type": "stream",
          "name": "stdout",
          "text": [
            "[nltk_data] Downloading package punkt to /root/nltk_data...\n",
            "[nltk_data]   Package punkt is already up-to-date!\n"
          ]
        },
        {
          "output_type": "stream",
          "name": "stderr",
          "text": [
            "100%|██████████| 60000/60000 [05:30<00:00, 181.41it/s]\n"
          ]
        }
      ]
    },
    {
      "cell_type": "code",
      "source": [
        "np_sample[\"terror\"] = terror_count\n",
        "np_sample[\"rr\"] = rr_count\n",
        "np_sample[\"mental\"] = mental_count"
      ],
      "metadata": {
        "id": "sfEbMVv6epkl"
      },
      "execution_count": 106,
      "outputs": []
    },
    {
      "cell_type": "code",
      "source": [
        "np_sample.to_csv(\"drive/MyDrive/rrpviol_dta/sample_dict.csv\")"
      ],
      "metadata": {
        "id": "2YIu64J1meEv"
      },
      "execution_count": 137,
      "outputs": []
    }
  ]
}